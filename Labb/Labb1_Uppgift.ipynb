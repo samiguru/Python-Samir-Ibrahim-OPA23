{
 "cells": [
  {
   "cell_type": "markdown",
   "metadata": {},
   "source": [
    "# Labb1 Uppgift"
   ]
  },
  {
   "cell_type": "markdown",
   "metadata": {},
   "source": [
    "## Handling pichu dataset"
   ]
  },
  {
   "cell_type": "code",
   "execution_count": 66,
   "metadata": {},
   "outputs": [
    {
     "name": "stdout",
     "output_type": "stream",
     "text": [
      "(20.12, 28.7)\n",
      "(15.2, 27.1)\n",
      "(17.2, 27.67)\n",
      "(16.79, 34.37)\n",
      "(20.89, 31.48)\n",
      "(20.41, 31.09)\n",
      "(22.14, 26.71)\n",
      "(15.7, 32.29)\n",
      "(18.38, 26.63)\n",
      "(15.24, 28.79)\n",
      "(16.75, 34.9)\n",
      "(19.04, 31.4)\n",
      "(15.21, 30.57)\n",
      "(16.59, 31.85)\n",
      "(20.2, 33.43)\n",
      "(19.36, 32.76)\n",
      "(16.76, 27.29)\n",
      "(19.71, 25.32)\n",
      "(21.48, 28.15)\n",
      "(15.05, 27.68)\n",
      "(21.45, 27.11)\n",
      "(20.59, 34.43)\n",
      "(17.72, 33.76)\n",
      "(16.24, 28.15)\n",
      "(22.66, 31.55)\n",
      "(17.69, 28.96)\n",
      "(15.74, 34.15)\n",
      "(15.77, 29.59)\n",
      "(21.78, 27.65)\n",
      "(19.83, 27.47)\n",
      "(21.46, 30.61)\n",
      "(20.84, 27.63)\n",
      "(19.29, 30.85)\n",
      "(22.78, 33.98)\n",
      "(18.03, 28.99)\n",
      "(19.42, 27.19)\n",
      "(21.64, 34.98)\n",
      "(19.95, 30.1)\n",
      "(21.89, 25.91)\n",
      "(19.62, 25.47)\n",
      "(20.64, 26.1)\n",
      "(15.37, 31.27)\n",
      "(16.82, 32.92)\n",
      "(17.32, 29.22)\n",
      "(15.64, 25.64)\n",
      "(16.86, 28.82)\n",
      "(15.81, 34.96)\n",
      "(17.22, 30.29)\n",
      "(20.09, 34.71)\n",
      "(17.92, 33.61)\n"
     ]
    }
   ],
   "source": [
    "# Reading the raw data of te dataset pichu\n",
    "file_path = \"../data/python/pichu.txt\"\n",
    "\n",
    "with open(file_path, \"r\") as pichu_file:\n",
    "    pichu_raw_file = pichu_file.read()\n",
    "\n",
    "# Splitting the dataset and removing the first line\n",
    "lines = pichu_raw_file.strip().split('\\n')\n",
    "header_line = lines.pop(0) if lines[0].startswith('(width (cm), height (cm))') else None\n",
    "\n",
    "\n",
    "# Rounding the data to nearest two digits after decimenal  \n",
    "pichu_listed_data = [\n",
    "    (round(float(line.split(',')[0].strip().replace('(', '')), 2), round(float(line.split(',')[1].strip().replace(')', '')), 2))\n",
    "    for line in lines if line.startswith('(')\n",
    "]\n",
    "\n",
    "# Printing the pichu data\n",
    "for data_point in pichu_listed_data:\n",
    "    print(data_point)"
   ]
  },
  {
   "cell_type": "markdown",
   "metadata": {},
   "source": [
    "## Handling pikachu dataset"
   ]
  },
  {
   "cell_type": "code",
   "execution_count": 67,
   "metadata": {},
   "outputs": [
    {
     "name": "stdout",
     "output_type": "stream",
     "text": [
      "(18.14, 44.95)\n",
      "(26.65, 41.5)\n",
      "(26.18, 39.38)\n",
      "(24.44, 40.18)\n",
      "(21.2, 36.21)\n",
      "(25.69, 37.25)\n",
      "(19.34, 38.38)\n",
      "(23.22, 40.88)\n",
      "(23.44, 37.3)\n",
      "(29.45, 37.2)\n",
      "(28.51, 35.71)\n",
      "(21.16, 41.31)\n",
      "(24.01, 37.29)\n",
      "(20.14, 44.05)\n",
      "(28.95, 43.6)\n",
      "(28.45, 35.71)\n",
      "(21.58, 37.38)\n",
      "(25.67, 41.69)\n",
      "(25.31, 37.14)\n",
      "(19.83, 36.32)\n",
      "(27.15, 44.36)\n",
      "(24.47, 40.71)\n",
      "(27.34, 39.73)\n",
      "(24.36, 42.85)\n",
      "(18.01, 43.07)\n",
      "(21.89, 36.9)\n",
      "(18.23, 35.97)\n",
      "(29.15, 39.31)\n",
      "(28.54, 39.24)\n",
      "(27.98, 39.67)\n",
      "(21.69, 42.29)\n",
      "(18.7, 41.73)\n",
      "(28.54, 44.84)\n",
      "(29.36, 35.98)\n",
      "(19.03, 39.03)\n",
      "(23.83, 38.39)\n",
      "(18.83, 43.62)\n",
      "(27.13, 37.49)\n",
      "(27.19, 36.9)\n",
      "(19.54, 39.49)\n",
      "(23.7, 39.22)\n",
      "(24.6, 37.79)\n",
      "(21.18, 37.5)\n",
      "(28.47, 44.23)\n",
      "(23.08, 39.43)\n",
      "(20.54, 43.61)\n",
      "(24.47, 40.5)\n",
      "(26.76, 35.51)\n",
      "(20.41, 44.99)\n",
      "(21.74, 43.36)\n"
     ]
    }
   ],
   "source": [
    "# # Reading the raw data of te dataset pikachu\n",
    "\n",
    "file_path = \"../data/python/pikachu.txt\"\n",
    "with open(file_path , \"r\") as pikachu_file:\n",
    "    pikachu_raw_file = pikachu_file.read()\n",
    "\n",
    "\n",
    "# Splitting the dataset and removing the first line\n",
    "lines = pikachu_raw_file.strip().split('\\n')\n",
    "header_line = lines.pop(0) if lines[0].startswith('(width (cm), height (cm))') else None\n",
    "\n",
    "\n",
    "# Rounding the data to nearest two digits after decimenal  \n",
    "pikachu_listed_data = [\n",
    "    (round(float(line.split(',')[0].strip().replace('(', '')), 2), round(float(line.split(',')[1].strip().replace(')', '')), 2))\n",
    "    for line in lines if line.startswith('(')\n",
    "]\n",
    "\n",
    "# printing pikachu data\n",
    "for data_point in pikachu_listed_data:\n",
    "    print(data_point)"
   ]
  },
  {
   "cell_type": "markdown",
   "metadata": {},
   "source": [
    "## Handling test_points data"
   ]
  },
  {
   "cell_type": "code",
   "execution_count": 68,
   "metadata": {},
   "outputs": [
    {
     "name": "stdout",
     "output_type": "stream",
     "text": [
      "Test_points: (25, 35), (15,14), (26,30), (22,45)\n",
      "The following test_points are read to be used: [(25.0, 35.0), (15.0, 14.0), (26.0, 30.0), (22.0, 45.0)]\n"
     ]
    }
   ],
   "source": [
    "# file_path for the Test-Points file from data folder to Lab folder\n",
    "\n",
    "file_path  = \"../data/python/test_points.txt\"\n",
    "\n",
    "with open(file_path , \"r\") as test_point:\n",
    "    test_point_file = test_point.read()\n",
    "    print(f\"Test_points: {test_point_file}\")\n",
    "\n",
    "\n",
    "# Cleaning, splitting, by removing spaces, splitting by \"),(\", removing parentheses, and converting to tuples of floats.\n",
    "test_point = test_point_file.replace(' ','' )\n",
    "test_point= test_point.split(\"),(\")\n",
    "\n",
    "test_point = [points.replace('(', '').replace(')','') for points in test_point]\n",
    "test_point = [tuple(map(float, points.split(',')))for points in test_point]\n",
    "\n",
    "# Printing the test points\n",
    "print(f\"The following test_points are read to be used: {test_point}\")"
   ]
  },
  {
   "cell_type": "markdown",
   "metadata": {},
   "source": [
    "## Labeling pichu and pikachu datasets"
   ]
  },
  {
   "cell_type": "code",
   "execution_count": 69,
   "metadata": {},
   "outputs": [
    {
     "name": "stdout",
     "output_type": "stream",
     "text": [
      "(20.12, 28.7, 0)\n",
      "(15.2, 27.1, 0)\n",
      "(17.2, 27.67, 0)\n",
      "(16.79, 34.37, 0)\n",
      "(20.89, 31.48, 0)\n",
      "(20.41, 31.09, 0)\n",
      "(22.14, 26.71, 0)\n",
      "(15.7, 32.29, 0)\n",
      "(18.38, 26.63, 0)\n",
      "(15.24, 28.79, 0)\n",
      "(16.75, 34.9, 0)\n",
      "(19.04, 31.4, 0)\n",
      "(15.21, 30.57, 0)\n",
      "(16.59, 31.85, 0)\n",
      "(20.2, 33.43, 0)\n",
      "(19.36, 32.76, 0)\n",
      "(16.76, 27.29, 0)\n",
      "(19.71, 25.32, 0)\n",
      "(21.48, 28.15, 0)\n",
      "(15.05, 27.68, 0)\n",
      "(21.45, 27.11, 0)\n",
      "(20.59, 34.43, 0)\n",
      "(17.72, 33.76, 0)\n",
      "(16.24, 28.15, 0)\n",
      "(22.66, 31.55, 0)\n",
      "(17.69, 28.96, 0)\n",
      "(15.74, 34.15, 0)\n",
      "(15.77, 29.59, 0)\n",
      "(21.78, 27.65, 0)\n",
      "(19.83, 27.47, 0)\n",
      "(21.46, 30.61, 0)\n",
      "(20.84, 27.63, 0)\n",
      "(19.29, 30.85, 0)\n",
      "(22.78, 33.98, 0)\n",
      "(18.03, 28.99, 0)\n",
      "(19.42, 27.19, 0)\n",
      "(21.64, 34.98, 0)\n",
      "(19.95, 30.1, 0)\n",
      "(21.89, 25.91, 0)\n",
      "(19.62, 25.47, 0)\n",
      "(20.64, 26.1, 0)\n",
      "(15.37, 31.27, 0)\n",
      "(16.82, 32.92, 0)\n",
      "(17.32, 29.22, 0)\n",
      "(15.64, 25.64, 0)\n",
      "(16.86, 28.82, 0)\n",
      "(15.81, 34.96, 0)\n",
      "(17.22, 30.29, 0)\n",
      "(20.09, 34.71, 0)\n",
      "(17.92, 33.61, 0)\n",
      "(18.14, 44.95, 1)\n",
      "(26.65, 41.5, 1)\n",
      "(26.18, 39.38, 1)\n",
      "(24.44, 40.18, 1)\n",
      "(21.2, 36.21, 1)\n",
      "(25.69, 37.25, 1)\n",
      "(19.34, 38.38, 1)\n",
      "(23.22, 40.88, 1)\n",
      "(23.44, 37.3, 1)\n",
      "(29.45, 37.2, 1)\n",
      "(28.51, 35.71, 1)\n",
      "(21.16, 41.31, 1)\n",
      "(24.01, 37.29, 1)\n",
      "(20.14, 44.05, 1)\n",
      "(28.95, 43.6, 1)\n",
      "(28.45, 35.71, 1)\n",
      "(21.58, 37.38, 1)\n",
      "(25.67, 41.69, 1)\n",
      "(25.31, 37.14, 1)\n",
      "(19.83, 36.32, 1)\n",
      "(27.15, 44.36, 1)\n",
      "(24.47, 40.71, 1)\n",
      "(27.34, 39.73, 1)\n",
      "(24.36, 42.85, 1)\n",
      "(18.01, 43.07, 1)\n",
      "(21.89, 36.9, 1)\n",
      "(18.23, 35.97, 1)\n",
      "(29.15, 39.31, 1)\n",
      "(28.54, 39.24, 1)\n",
      "(27.98, 39.67, 1)\n",
      "(21.69, 42.29, 1)\n",
      "(18.7, 41.73, 1)\n",
      "(28.54, 44.84, 1)\n",
      "(29.36, 35.98, 1)\n",
      "(19.03, 39.03, 1)\n",
      "(23.83, 38.39, 1)\n",
      "(18.83, 43.62, 1)\n",
      "(27.13, 37.49, 1)\n",
      "(27.19, 36.9, 1)\n",
      "(19.54, 39.49, 1)\n",
      "(23.7, 39.22, 1)\n",
      "(24.6, 37.79, 1)\n",
      "(21.18, 37.5, 1)\n",
      "(28.47, 44.23, 1)\n",
      "(23.08, 39.43, 1)\n",
      "(20.54, 43.61, 1)\n",
      "(24.47, 40.5, 1)\n",
      "(26.76, 35.51, 1)\n",
      "(20.41, 44.99, 1)\n",
      "(21.74, 43.36, 1)\n"
     ]
    }
   ],
   "source": [
    "# Labeling the Pichu dataset point with 0\n",
    "\n",
    "pichu_label_file = [(width , height , 0) for width , height in pichu_listed_data]\n",
    "\n",
    "for pichu_points in pichu_label_file:\n",
    "    print(pichu_points)\n",
    "\n",
    "\n",
    "# Labeling the Pikachu dataset point with 1\n",
    "pikachu_label_file = [(width , height , 1) for width , height in pikachu_listed_data]\n",
    "\n",
    "for pikachu_points in pikachu_label_file:\n",
    "    print(pikachu_points)"
   ]
  },
  {
   "cell_type": "markdown",
   "metadata": {},
   "source": [
    "## Merging the labeled pichu and pikachu datasets"
   ]
  },
  {
   "cell_type": "code",
   "execution_count": 70,
   "metadata": {},
   "outputs": [
    {
     "name": "stdout",
     "output_type": "stream",
     "text": [
      "[(18.14, 44.95, 1), (26.65, 41.5, 1), (26.18, 39.38, 1), (24.44, 40.18, 1), (21.2, 36.21, 1), (25.69, 37.25, 1), (19.34, 38.38, 1), (23.22, 40.88, 1), (23.44, 37.3, 1), (29.45, 37.2, 1), (28.51, 35.71, 1), (21.16, 41.31, 1), (24.01, 37.29, 1), (20.14, 44.05, 1), (28.95, 43.6, 1), (28.45, 35.71, 1), (21.58, 37.38, 1), (25.67, 41.69, 1), (25.31, 37.14, 1), (19.83, 36.32, 1), (27.15, 44.36, 1), (24.47, 40.71, 1), (27.34, 39.73, 1), (24.36, 42.85, 1), (18.01, 43.07, 1), (21.89, 36.9, 1), (18.23, 35.97, 1), (29.15, 39.31, 1), (28.54, 39.24, 1), (27.98, 39.67, 1), (21.69, 42.29, 1), (18.7, 41.73, 1), (28.54, 44.84, 1), (29.36, 35.98, 1), (19.03, 39.03, 1), (23.83, 38.39, 1), (18.83, 43.62, 1), (27.13, 37.49, 1), (27.19, 36.9, 1), (19.54, 39.49, 1), (23.7, 39.22, 1), (24.6, 37.79, 1), (21.18, 37.5, 1), (28.47, 44.23, 1), (23.08, 39.43, 1), (20.54, 43.61, 1), (24.47, 40.5, 1), (26.76, 35.51, 1), (20.41, 44.99, 1), (21.74, 43.36, 1), (20.12, 28.7, 0), (15.2, 27.1, 0), (17.2, 27.67, 0), (16.79, 34.37, 0), (20.89, 31.48, 0), (20.41, 31.09, 0), (22.14, 26.71, 0), (15.7, 32.29, 0), (18.38, 26.63, 0), (15.24, 28.79, 0), (16.75, 34.9, 0), (19.04, 31.4, 0), (15.21, 30.57, 0), (16.59, 31.85, 0), (20.2, 33.43, 0), (19.36, 32.76, 0), (16.76, 27.29, 0), (19.71, 25.32, 0), (21.48, 28.15, 0), (15.05, 27.68, 0), (21.45, 27.11, 0), (20.59, 34.43, 0), (17.72, 33.76, 0), (16.24, 28.15, 0), (22.66, 31.55, 0), (17.69, 28.96, 0), (15.74, 34.15, 0), (15.77, 29.59, 0), (21.78, 27.65, 0), (19.83, 27.47, 0), (21.46, 30.61, 0), (20.84, 27.63, 0), (19.29, 30.85, 0), (22.78, 33.98, 0), (18.03, 28.99, 0), (19.42, 27.19, 0), (21.64, 34.98, 0), (19.95, 30.1, 0), (21.89, 25.91, 0), (19.62, 25.47, 0), (20.64, 26.1, 0), (15.37, 31.27, 0), (16.82, 32.92, 0), (17.32, 29.22, 0), (15.64, 25.64, 0), (16.86, 28.82, 0), (15.81, 34.96, 0), (17.22, 30.29, 0), (20.09, 34.71, 0), (17.92, 33.61, 0)]\n"
     ]
    }
   ],
   "source": [
    "# Merging file into one file or list\n",
    "pichu_pikachu_merged_data = pikachu_label_file + pichu_label_file\n",
    "print(pichu_pikachu_merged_data)"
   ]
  },
  {
   "cell_type": "code",
   "execution_count": 71,
   "metadata": {},
   "outputs": [
    {
     "data": {
      "text/plain": [
       "100"
      ]
     },
     "execution_count": 71,
     "metadata": {},
     "output_type": "execute_result"
    }
   ],
   "source": [
    "len(pichu_pikachu_merged_data) # Double-check if the total number of the merged datasets equal 100"
   ]
  },
  {
   "cell_type": "markdown",
   "metadata": {},
   "source": [
    "## Classifying the test points againist pichu and pikachu"
   ]
  },
  {
   "cell_type": "code",
   "execution_count": 72,
   "metadata": {},
   "outputs": [
    {
     "name": "stdout",
     "output_type": "stream",
     "text": [
      "Test Point 1 is classified as: Pikachu\n",
      "Test Point 2 is classified as: Pichu\n",
      "Test Point 3 is classified as: Pichu\n",
      "Test Point 4 is classified as: Pikachu\n"
     ]
    }
   ],
   "source": [
    "import numpy as np\n",
    "\n",
    "# Function to calculate Euclidean distance between two points\n",
    "def calculate_distance(point1, point2):\n",
    "    return np.linalg.norm(np.array(point1) - np.array(point2))\n",
    "\n",
    "# Function to calculate distances between test points and data points\n",
    "def calculate_distances(test_points, data_points):\n",
    "    return [[(calculate_distance(test_point, data_point[:2]), data_point) for data_point in data_points] for test_point in test_points]\n",
    "\n",
    "# Function to classify test points based on nearest neighbors\n",
    "def classify_test_points(distances):\n",
    "    return [\"Pichu\" if min(distances[i])[1][2] == 0 else \"Pikachu\" for i in range(len(distances))]\n",
    "\n",
    "# Calculate distances\n",
    "distances = calculate_distances(test_point, pichu_pikachu_merged_data)\n",
    "\n",
    "# Classify test points\n",
    "classifications = classify_test_points(distances)\n",
    "\n",
    "# Display classifications\n",
    "for i, classification in enumerate(classifications, 1):\n",
    "    print(f\"Test Point {i} is classified as: {classification}\")"
   ]
  },
  {
   "cell_type": "markdown",
   "metadata": {},
   "source": [
    "## Enabling user input test-points"
   ]
  },
  {
   "cell_type": "code",
   "execution_count": 74,
   "metadata": {},
   "outputs": [],
   "source": [
    "import math\n",
    "\n",
    "\n",
    "# Formula for calculate the Euclidean distance \n",
    "def euclidean_distance(point1, point2):\n",
    "    x1, y1 = point1\n",
    "    x2, y2 = point2\n",
    "    return math.sqrt((x2 - x1)**2 + (y2 - y1)**2)\n",
    "\n",
    "\n",
    "\n",
    "# distances now contains the distances between each user inserrted test point and all 100 points\n",
    "def calculate_distances(user_test_points, pichu_pikachu_merged_data):\n",
    "    distances = []\n",
    "\n",
    "    for testpoint in user_test_points:\n",
    "        distances_per_test_point = []\n",
    "\n",
    "        for point in pichu_pikachu_merged_data:\n",
    "            distance = euclidean_distance(testpoint, (point[0], point[1]))\n",
    "            distances_per_test_point.append((distance, point))\n",
    "\n",
    "        distances.append(distances_per_test_point)\n",
    "\n",
    "    return distances\n",
    "\n",
    "\n",
    "#Sorting the diatance in ascending order , so the top one are the nearest to the test-point and so on ..\n",
    "def classify_test_points(distances):\n",
    "    classifications = []\n",
    "\n",
    "    for test_point_distances in distances:\n",
    "        # Sort distances in ascending order\n",
    "        sorted_distances = sorted(test_point_distances, key=lambda x: x[0])\n",
    "        \n",
    "        # Extract the label from the point with the smallest distance\n",
    "        label = sorted_distances[0][1][2]  # [0] gets the first element (smallest distance), [1] gets the point, [2] gets the label\n",
    "        \n",
    "        # Append the classification (Pichu or Pikachu) to the list\n",
    "        classifications.append(\"Pichu\" if label == 0 else \"Pikachu\")\n",
    "\n",
    "    return classifications\n",
    "\n",
    "\n",
    "# Function to interactively collect user input for test points' coordinates. And keep promoting the user to enter x abd y coordinates until user enter -1. \n",
    "def get_user_input():\n",
    "    while True:\n",
    "        try:\n",
    "            user_input_x = int(input(\"Enter the x_coord of the test point (-1 to get the Answer):\"))\n",
    "\n",
    "            if user_input_x == -1:\n",
    "                break\n",
    "            user_input_y = int(input(\"Enter the y_coord of the test point:\"))\n",
    "\n",
    "            if user_input_y < 0:\n",
    "                raise ValueError(\"Coordinates cannot be negative. \")\n",
    "            \n",
    "            user_test_points.append((user_input_x, user_input_y))\n",
    "        except ValueError as e:\n",
    "            print(f\"Invalid input. Please enter valid number coordinates. {e}\")\n",
    "\n",
    "\n",
    "# Initialize user_test_points list before using\n",
    "user_test_points = []\n",
    "get_user_input()\n",
    "\n",
    "# Calculate distances\n",
    "distances = calculate_distances(user_test_points, pichu_pikachu_merged_data)\n",
    "\n",
    "# Classify and print the result\n",
    "classifications = classify_test_points(distances)\n",
    "\n",
    "# Print classifications for each test point\n",
    "for i, test_point in enumerate(user_test_points):\n",
    "    print(f\"Test point {test_point} is classified as: {classifications[i]}\")"
   ]
  },
  {
   "cell_type": "markdown",
   "metadata": {},
   "source": [
    "## Classifying a test point based on the predominant class among its five nearest neighbors"
   ]
  },
  {
   "cell_type": "code",
   "execution_count": null,
   "metadata": {},
   "outputs": [
    {
     "name": "stdout",
     "output_type": "stream",
     "text": [
      "Pichu were : 5 and Pikachu : 0 in total around of 5\n",
      "The test point (-1, -1) is classified as: Pichu\n"
     ]
    }
   ],
   "source": [
    "import math\n",
    "\n",
    "# Formula for calculate the Euclidean distance\n",
    "def euclidean_distance(point1, point2):\n",
    "    x1, y1 = point1\n",
    "    x2, y2 = point2\n",
    "    return math.sqrt((x2 - x1)**2 + (y2 - y1)**2)\n",
    "\n",
    "\n",
    "# User insert value for x and y coordinates\n",
    "try:\n",
    "    user_input_x = int(input(\"Enter x_value: \"))\n",
    "    user_input_y = int(input(\"Enter y_value: \"))\n",
    "\n",
    "    test_point = (user_input_x, user_input_y)\n",
    "\n",
    "except ValueError as err:\n",
    "    print(f\"Invalid value, please enter valid numbers. {err}\")\n",
    "    exit()\n",
    "\n",
    "\n",
    "# Calculate distances\n",
    "distances = [(euclidean_distance(test_point, (point[0], point[1])), point) for point in pichu_pikachu_merged_data]\n",
    "\n",
    "# Sort distances in ascending order\n",
    "sorted_distances = sorted(distances, key=lambda x: x[0])\n",
    "\n",
    "# Get the top 10 shortest distances\n",
    "top_5_distances = sorted_distances[:5]\n",
    "\n",
    "# Sum the label for pichu and pikachu \n",
    "pichu_count = sum(1 for _, point in top_5_distances if point[2] == 0)\n",
    "pikachu_count = sum(1 for _, point in top_5_distances if point[2] == 1)\n",
    "\n",
    "# Determine the majority class based on the counts of Pichu and Pikachu\n",
    "if pichu_count > pikachu_count:\n",
    "    majority = 0 # pikchu classify\n",
    "\n",
    "else:\n",
    "    majority = 1 # pikachu classify\n",
    "\n",
    "\n",
    "print(f\"Pichu were : {pichu_count} and Pikachu : {pikachu_count} in total around of {len(top_5_distances)}\")\n",
    "print(f\"The test point {test_point} is classified as: {'Pichu' if majority == 0 else 'Pikachu'}\")"
   ]
  },
  {
   "cell_type": "markdown",
   "metadata": {},
   "source": [
    "## Plot pichu and pikachu data-point with test-points"
   ]
  },
  {
   "cell_type": "code",
   "execution_count": 75,
   "metadata": {},
   "outputs": [
    {
     "data": {
      "image/png": "[encoded data removed]",
      "text/plain": [
       "<Figure size 640x480 with 1 Axes>"
      ]
     },
     "metadata": {},
     "output_type": "display_data"
    }
   ],
   "source": [
    "import matplotlib.pyplot as plt\n",
    "\n",
    "x_pichu, y_pichu = zip(*pichu_listed_data)\n",
    "x_pikachu, y_pikachu = zip(*pikachu_listed_data)\n",
    "\n",
    "#x_test_points, y_test_points = zip(*test_point)\n",
    "\n",
    "plt.scatter(x_pichu, y_pichu , color = \"red\", label = \"Pichu\" )\n",
    "plt.scatter(x_pikachu, y_pikachu , color = \"orange\" , label = \"Pikachu\" )\n",
    "\n",
    "#plt.scatter(x_test_points, y_test_points , color = \"blue\" , label = \"test_points\" )\n",
    "\n",
    "plt.xlabel(\"Bredd (cm)\")\n",
    "plt.ylabel(\"Höjd (cm)\")\n",
    "plt.title(\"Dimensioner av Pichu och Pikachu\")\n",
    "\n",
    "plt.legend()\n",
    "plt.show()"
   ]
  }
 ],
 "metadata": {
  "kernelspec": {
   "display_name": "venv",
   "language": "python",
   "name": "python3"
  },
  "language_info": {
   "codemirror_mode": {
    "name": "ipython",
    "version": 3
   },
   "file_extension": ".py",
   "mimetype": "text/x-python",
   "name": "python",
   "nbconvert_exporter": "python",
   "pygments_lexer": "ipython3",
   "version": "3.11.7"
  }
 },
 "nbformat": 4,
 "nbformat_minor": 2
}
